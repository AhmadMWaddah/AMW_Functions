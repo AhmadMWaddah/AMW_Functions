{
 "cells": [
  {
   "cell_type": "code",
   "execution_count": null,
   "metadata": {},
   "outputs": [],
   "source": [
    "import os"
   ]
  },
  {
   "cell_type": "code",
   "execution_count": null,
   "metadata": {},
   "outputs": [],
   "source": [
    "#### Function To Search For A Character inside String and Return List With Indexes and How Many Times Repeated."
   ]
  },
  {
   "cell_type": "code",
   "execution_count": null,
   "metadata": {},
   "outputs": [],
   "source": [
    "def character_find(target_string, icon_symbol):\n",
    "    \"\"\"\n",
    "    :param target_string:       Provided String To Search Inside.\n",
    "    :param icon_symbol:         Character Search For Inside String\n",
    "    :return:    ---------->     How Many Times Repeated The Character and Indexes Too.\n",
    "    \"\"\"\n",
    "    # Start Counting Variable.\n",
    "    count_starter = 0\n",
    "    # List To Append Symbol Each Time Found In String.\n",
    "    target_list = []\n",
    "    # Looping In String For Symbol.\n",
    "    for character in target_string:\n",
    "        if character.lower() == icon_symbol.lower():\n",
    "            # Append Symbol To List To Count It.\n",
    "            target_list.append(target_string.find(character, count_starter))\n",
    "        # Add One For Starter To Skip Previous Character.\n",
    "        count_starter += 1\n",
    "    # Printing The List With Symbol Positions On String (Target).\n",
    "    repeated_times = len(target_list)\n",
    "    print(target_list, repeated_times)\n",
    "    return target_list, repeated_times"
   ]
  },
  {
   "cell_type": "code",
   "execution_count": null,
   "metadata": {},
   "outputs": [],
   "source": [
    "#### Function Takes String and Split Each Word and Return Splited Words In a List."
   ]
  },
  {
   "cell_type": "code",
   "execution_count": null,
   "metadata": {},
   "outputs": [],
   "source": [
    "def custom_split(provided_string):\n",
    "    \"\"\"\n",
    "    :param provided_string:     String To Loop Inside & Split Words.\n",
    "    :return:    ----------->    Splited Words In a List.\n",
    "    \"\"\"\n",
    "    # List To Append All Splited Words.\n",
    "    splited_words_list = []\n",
    "    # Variable To Save Words.\n",
    "    helper_variable = ''\n",
    "    # Looping Inside String.\n",
    "    for each_word in provided_string:\n",
    "        # checking the next character is space or not.\n",
    "        if each_word == ' ':\n",
    "            # If Yes. Append Word To List.\n",
    "            splited_words_list.append(helper_variable)\n",
    "            # Then Reset Temporary Variable\n",
    "            helper_variable = ''\n",
    "        else:\n",
    "            # If Not Then Fill Variable With Word.\n",
    "            helper_variable += each_word\n",
    "\n",
    "    # Last Word Will Be Out Of Loop Then Go To List Right Away.\n",
    "    if helper_variable:\n",
    "        splited_words_list.append(helper_variable)\n",
    "\n",
    "    print(splited_words_list)\n",
    "    return splited_words_list"
   ]
  },
  {
   "cell_type": "code",
   "execution_count": null,
   "metadata": {},
   "outputs": [],
   "source": [
    "#### Funtion To Rename Muliple Files it Takes Three Parameters Folder Directory and The New Name we Need to Rename With and\n",
    "#### Also extension if we Need To change It.\n",
    "### This Function Needs OS Module To Be Imported."
   ]
  },
  {
   "cell_type": "code",
   "execution_count": null,
   "metadata": {},
   "outputs": [],
   "source": [
    "def rename_files(files_path, wanted_name, needed_extension):\n",
    "    \"\"\"\n",
    "    :param files_path:          Directory To Rename Files Inside\n",
    "    :param wanted_name:         New Name To Rename Into.\n",
    "    :param needed_extension:    Extension If Needed To Change.\n",
    "    :return:    ----------->    Directory, Also, Wanted Name, & Extension.\n",
    "    \"\"\"\n",
    "    # List For All Files In Directory.\n",
    "    directory_files = []\n",
    "    # New List After Renaming Files.\n",
    "    renamed_files = []\n",
    "    # Numerical Range To Give To Files.\n",
    "    numbering_list = range(0, 6)\n",
    "    # Looping Inside Directory.\n",
    "    for filename in os.listdir(files_path):\n",
    "        # Adding Each File As Member In Directory Files List.\n",
    "        directory_files.append(filename)\n",
    "    print(directory_files)\n",
    "\n",
    "    # Looping For Two Lists, (Directory Files List and Numerical List).\n",
    "    for each_file, each_number in zip(directory_files, numbering_list):\n",
    "        # Creating Pattern For The New Name.\n",
    "        new_name = f'{wanted_name} ({each_number}).{needed_extension}'\n",
    "        # Adding New Names To New List (Renamed List).\n",
    "        renamed_files.append(new_name)\n",
    "    # Printing List With New Names.\n",
    "    print(renamed_files)\n",
    "    return files_path, wanted_name, needed_extension"
   ]
  }
 ],
 "metadata": {
  "kernelspec": {
   "display_name": "Python 3",
   "language": "python",
   "name": "python3"
  },
  "language_info": {
   "codemirror_mode": {
    "name": "ipython",
    "version": 3
   },
   "file_extension": ".py",
   "mimetype": "text/x-python",
   "name": "python",
   "nbconvert_exporter": "python",
   "pygments_lexer": "ipython3",
   "version": "3.6.9"
  }
 },
 "nbformat": 4,
 "nbformat_minor": 4
}
