{
 "cells": [
  {
   "cell_type": "code",
   "execution_count": null,
   "metadata": {},
   "outputs": [],
   "source": [
    "#### Simple Linear Regression Functions."
   ]
  },
  {
   "cell_type": "code",
   "execution_count": null,
   "metadata": {},
   "outputs": [],
   "source": [
    "# Mean Squared Error.\n",
    "def mean_square_error(actual_data, predicted_data):\n",
    "    \"\"\"\n",
    "    Function Takes 2 Parameters lists of data, making counter and add to it and zipping lists.\n",
    "    :param actual_data:\n",
    "    :param predicted_data:\n",
    "    :return: Mean Squared Error Of Both Data Actual and Predicted.\n",
    "    \"\"\"\n",
    "    # Starter Counter.\n",
    "    counter = 0\n",
    "    # Combining BOth List With Zipping Function.\n",
    "    data_combined = zip(actual_data, predicted_data)\n",
    "    # Loop For Each cell in both data.\n",
    "    for (each_actual, each_predicted) in data_combined:\n",
    "        # Adding Results To Starter Counter.\n",
    "        counter += (each_actual - each_predicted) ** 2\n",
    "    return counter / len(actual_data)"
   ]
  },
  {
   "cell_type": "code",
   "execution_count": null,
   "metadata": {},
   "outputs": [],
   "source": [
    "# Mean Of The Data.\n",
    "def data_mean(data_values):\n",
    "    \"\"\"\n",
    "    Getting The Mean Number For Data.\n",
    "    :param data_values: Set Of Data\n",
    "    :return: Mean Of Data Values.\n",
    "    \"\"\"\n",
    "    mean_of_data = sum(data_values) / len(data_values)\n",
    "    return mean_of_data"
   ]
  },
  {
   "cell_type": "code",
   "execution_count": null,
   "metadata": {},
   "outputs": [],
   "source": [
    "# Variacne Of The Data.\n",
    "def data_variance(data_values, mean_of_data):\n",
    "    \"\"\"\n",
    "    Getting The Variance Number For Data.\n",
    "    :param data_values: Set Of Data\n",
    "    :param mean_of_data: Mean Of Data From Previous Function.\n",
    "    :return: Variance Of Data.\n",
    "    \"\"\"\n",
    "    starter_counter = 0\n",
    "    for data_cells in data_values:\n",
    "        starter_counter += (data_cells - mean_of_data) ** 2\n",
    "    variance_of_data = starter_counter / len(data_values)\n",
    "    return variance_of_data"
   ]
  },
  {
   "cell_type": "code",
   "execution_count": null,
   "metadata": {},
   "outputs": [],
   "source": [
    "# CoVariance Of The Data.\n",
    "def data_covariance(features_values, labels_values, features_mean, labels_mean):\n",
    "    \"\"\"\n",
    "    It measures the degree of change in the variables, i.e. when one variable changes, will there be the same/a similar change in the other variable.\n",
    "    :param features_values: (X) Weights and Features Of Data\n",
    "    :param labels_values: (Y) Predictions and Labels Of Data\n",
    "    :param features_mean: Measured Mean Of Features For Data\n",
    "    :param labels_mean: Measured Mean Of Labels For Data\n",
    "    :return: Measure of relationship between 2 variables.\n",
    "    \"\"\"\n",
    "    # Labels and Features Added and Multiplied.\n",
    "    features_labels_sum_multiply = 0\n",
    "    # Combine Both Features and Labels In One Object.\n",
    "    feature_label_combined = zip(features_values, labels_values)\n",
    "    for (features_values, labels_values) in feature_label_combined:\n",
    "        features_labels_sum_multiply += ((features_values - features_mean) * (labels_values - labels_mean))\n",
    "    covariance_of_data = features_labels_sum_multiply / len(features_values)\n",
    "    return covariance_of_data"
   ]
  },
  {
   "cell_type": "code",
   "execution_count": null,
   "metadata": {},
   "outputs": [],
   "source": [
    "# CoEfficient Of The Data.\n",
    "def data_coefficient(features_values, labels_values):\n",
    "    \"\"\"\n",
    "    Measure of correlation overcomes the scale dependency of covariance by standardizing the measures.\n",
    "    :param features_values: (X) Weights and Features Of Data\n",
    "    :param labels_values: (Y) Predictions and Labels Of Data\n",
    "    :return: Beta One And Beta Zero.\n",
    "    \"\"\"\n",
    "    features_mean = data_mean(features_values)\n",
    "    labels_values = data_mean(labels_values)\n",
    "    features_variance = data_variance(features_values, features_mean)\n",
    "    labels_variance = data_variance(labels_values, labels_values)\n",
    "    print(features_variance)\n",
    "    beta_one = data_covariance(features_values, labels_values, features_mean, labels_values) / features_variance\n",
    "    beta_zero = labels_values - (beta_one * features_mean)\n",
    "    return beta_one, beta_zero"
   ]
  },
  {
   "cell_type": "code",
   "execution_count": null,
   "metadata": {},
   "outputs": [],
   "source": [
    "# Simple Linear Regression Predictions.\n",
    "def simple_linear_regression(features_train, labels_train, features_test):\n",
    "    \"\"\"\n",
    "    Using a linear regression model will allow you to discover whether a relationship between variables exists at all.\n",
    "    :param features_train:\n",
    "    :param labels_train:\n",
    "    :param features_test:\n",
    "    :return: prediction_of_data\n",
    "    \"\"\"\n",
    "    beta_one_train, beta_zero_train = data_coefficient(features_train, labels_train)\n",
    "    prediction_of_data = beta_one_train * features_test + beta_zero_train\n",
    "    return prediction_of_data"
   ]
  },
  {
   "cell_type": "code",
   "execution_count": null,
   "metadata": {},
   "outputs": [],
   "source": [
    "# Evaluating The Model.\n",
    "def evaluate_model(features_train, labels_train, features_test, labels_test):\n",
    "    \"\"\"\n",
    "    Evaluate Model anc Compare Train Data With Test Data.\n",
    "    :param features_train:\n",
    "    :param labels_train:\n",
    "    :param features_test:\n",
    "    :param labels_test:\n",
    "    :return:    mean_square_error\n",
    "    \"\"\"\n",
    "    prediction_data = simple_linear_regression(features_train, labels_train, features_test)\n",
    "    return mean_square_error(prediction_data, labels_test)"
   ]
  }
 ],
 "metadata": {
  "kernelspec": {
   "display_name": "Python 3",
   "language": "python",
   "name": "python3"
  },
  "language_info": {
   "codemirror_mode": {
    "name": "ipython",
    "version": 3
   },
   "file_extension": ".py",
   "mimetype": "text/x-python",
   "name": "python",
   "nbconvert_exporter": "python",
   "pygments_lexer": "ipython3",
   "version": "3.6.9"
  }
 },
 "nbformat": 4,
 "nbformat_minor": 4
}
